{
  "nbformat": 4,
  "nbformat_minor": 0,
  "metadata": {
    "kernelspec": {
      "display_name": "Python 3",
      "language": "python",
      "name": "python3"
    },
    "language_info": {
      "codemirror_mode": {
        "name": "ipython",
        "version": 3
      },
      "file_extension": ".py",
      "mimetype": "text/x-python",
      "name": "python",
      "nbconvert_exporter": "python",
      "pygments_lexer": "ipython3",
      "version": "3.7.4"
    },
    "colab": {
      "name": "PCA MNIST_cupy.ipynb",
      "provenance": [],
      "collapsed_sections": []
    },
    "accelerator": "GPU"
  },
  "cells": [
    {
      "cell_type": "code",
      "metadata": {
        "id": "8l5yTrX6ckSR",
        "colab_type": "code",
        "colab": {}
      },
      "source": [
        "# author: Yuman Lin\n",
        "# July 24 2020"
      ],
      "execution_count": 1,
      "outputs": []
    },
    {
      "cell_type": "code",
      "metadata": {
        "id": "wrF103ZVckST",
        "colab_type": "code",
        "colab": {}
      },
      "source": [
        "import numpy as np\n",
        "from sklearn.datasets import fetch_openml\n",
        "mnist = fetch_openml('mnist_784', version=1, cache=True)\n",
        "mnist.target = mnist.target.astype(np.int8)\n",
        "X_train = mnist[\"data\"][:60000]\n",
        "X_test  = mnist[\"data\"][60000:]\n",
        "y_train = mnist[\"target\"][:60000]\n",
        "y_test  = mnist[\"target\"][60000:]"
      ],
      "execution_count": 2,
      "outputs": []
    },
    {
      "cell_type": "code",
      "metadata": {
        "id": "_KVTvBr-eP0j",
        "colab_type": "code",
        "colab": {}
      },
      "source": [
        "import timeit"
      ],
      "execution_count": 3,
      "outputs": []
    },
    {
      "cell_type": "code",
      "metadata": {
        "id": "xTQATHBGckSW",
        "colab_type": "code",
        "colab": {
          "base_uri": "https://localhost:8080/",
          "height": 34
        },
        "outputId": "cbb1de9c-baed-4e01-82e3-1cc34a72b2a9"
      },
      "source": [
        "from sklearn.decomposition import PCA\n",
        "pca = PCA(n_components=0.95)\n",
        "start = timeit.default_timer()\n",
        "X_reduced = pca.fit_transform(X_train)\n",
        "stop = timeit.default_timer()\n",
        "print(\"'time of PCA library: \", stop - start)"
      ],
      "execution_count": 6,
      "outputs": [
        {
          "output_type": "stream",
          "text": [
            "'time of PCA library:  12.062346611000066\n"
          ],
          "name": "stdout"
        }
      ]
    },
    {
      "cell_type": "code",
      "metadata": {
        "id": "Z49pP3esckSY",
        "colab_type": "code",
        "colab": {
          "base_uri": "https://localhost:8080/",
          "height": 34
        },
        "outputId": "a89ec67b-afbb-4b55-f46b-5e9363ea3cf5"
      },
      "source": [
        "X_reduced.shape"
      ],
      "execution_count": 7,
      "outputs": [
        {
          "output_type": "execute_result",
          "data": {
            "text/plain": [
              "(60000, 154)"
            ]
          },
          "metadata": {
            "tags": []
          },
          "execution_count": 7
        }
      ]
    },
    {
      "cell_type": "code",
      "metadata": {
        "id": "xCIAEfldckSa",
        "colab_type": "code",
        "colab": {
          "base_uri": "https://localhost:8080/",
          "height": 238
        },
        "outputId": "840625ce-bd89-4f89-cb42-ea4125f60949"
      },
      "source": [
        "X_reduced"
      ],
      "execution_count": 8,
      "outputs": [
        {
          "output_type": "execute_result",
          "data": {
            "text/plain": [
              "array([[ 123.93258866, -312.67426202,  -24.51405176, ...,   55.01899792,\n",
              "         -20.08327427,   39.58995229],\n",
              "       [1011.71837587, -294.85703827,  596.33956104, ...,    7.24129874,\n",
              "         -12.45780869,  -12.7432306 ],\n",
              "       [ -51.84960805,  392.17315286, -188.50974943, ...,  -54.19582221,\n",
              "          48.47979747,  -73.27826256],\n",
              "       ...,\n",
              "       [-178.0534496 ,  160.07821109, -257.61308227, ...,   55.54485537,\n",
              "          87.99883556,   -5.78979735],\n",
              "       [ 130.60607208,   -5.59193642,  513.85867395, ...,   23.30835402,\n",
              "           5.06237836,  -65.26525587],\n",
              "       [-173.43595244,  -24.71880226,  556.01889393, ...,   52.4956069 ,\n",
              "          12.63192292,  -45.74001227]])"
            ]
          },
          "metadata": {
            "tags": []
          },
          "execution_count": 8
        }
      ]
    },
    {
      "cell_type": "code",
      "metadata": {
        "id": "pvtsv_WnckSq",
        "colab_type": "code",
        "colab": {
          "base_uri": "https://localhost:8080/",
          "height": 34
        },
        "outputId": "99f8e65b-9cb7-4fe8-8b69-c7b09962e6fb"
      },
      "source": [
        "type(X_train)"
      ],
      "execution_count": 9,
      "outputs": [
        {
          "output_type": "execute_result",
          "data": {
            "text/plain": [
              "numpy.ndarray"
            ]
          },
          "metadata": {
            "tags": []
          },
          "execution_count": 9
        }
      ]
    },
    {
      "cell_type": "code",
      "metadata": {
        "id": "mN4ESehxHxGm",
        "colab_type": "code",
        "colab": {
          "base_uri": "https://localhost:8080/",
          "height": 170
        },
        "outputId": "5044f3b6-198c-4dfe-dea7-f2ad907a8357"
      },
      "source": [
        "def pca(dataMat, topNfeat=0.95):\n",
        "\n",
        "    # featurenormalize\n",
        "    meanVals = np.mean(dataMat, axis=0)\n",
        "    meanRemoved = dataMat - meanVals\n",
        "\n",
        "    # computeCov\n",
        "    covmat = np.cov(meanRemoved, rowvar=0)\n",
        "    print(covmat)\n",
        "    print(type(covmat))\n",
        "\n",
        "    # computeEig\n",
        "    eigVals, eigVects = np.linalg.eig(np.mat(covmat))\n",
        "\n",
        "    # computeDim\n",
        "    if topNfeat < 1:\n",
        "      sum = 0\n",
        "      eigValInd = np.argsort(eigVals)\n",
        "      eigValsort = np.sort(eigVals)\n",
        "      \n",
        "      for i in range((len(eigValsort)-1), 0, -1):\n",
        "        sum += eigValsort[i]\n",
        "        dim = i\n",
        "        if (sum / eigValsort.sum() >= topNfeat):\n",
        "          break\n",
        "      topNfeat = dataMat.shape[1] - dim\n",
        "    \n",
        "    eigValInd = np.argsort(eigVals)\n",
        "    eigValInd = eigValInd[:-(topNfeat+1):-1]    \n",
        "    redEigVects = eigVects[:, eigValInd]        \n",
        "\n",
        "   \n",
        "    lowDDataMat = meanRemoved * redEigVects     \n",
        "    reconMat = (lowDDataMat * redEigVects.T) + meanVals \n",
        "    return np.array(lowDDataMat), np.array(reconMat)\n",
        "\n",
        "\n",
        "lowDDataMat,reconMat = pca(X_train, 0.95)\n",
        "print(lowDDataMat.shape)"
      ],
      "execution_count": 10,
      "outputs": [
        {
          "output_type": "stream",
          "text": [
            "[[0. 0. 0. ... 0. 0. 0.]\n",
            " [0. 0. 0. ... 0. 0. 0.]\n",
            " [0. 0. 0. ... 0. 0. 0.]\n",
            " ...\n",
            " [0. 0. 0. ... 0. 0. 0.]\n",
            " [0. 0. 0. ... 0. 0. 0.]\n",
            " [0. 0. 0. ... 0. 0. 0.]]\n",
            "<class 'numpy.ndarray'>\n",
            "(60000, 154)\n"
          ],
          "name": "stdout"
        }
      ]
    },
    {
      "cell_type": "code",
      "metadata": {
        "id": "JJNogRYkcZs6",
        "colab_type": "code",
        "colab": {
          "base_uri": "https://localhost:8080/",
          "height": 187
        },
        "outputId": "52ac94c9-1bb0-41c7-821b-566de75ac7de"
      },
      "source": [
        "start = timeit.default_timer()\n",
        "lowDDataMat, reconMat = pca(X_train, 0.95)\n",
        "end = timeit.default_timer()\n",
        "print(\"time of Yuman's PCA: \", end - start)\n",
        "print(lowDDataMat.shape)"
      ],
      "execution_count": 11,
      "outputs": [
        {
          "output_type": "stream",
          "text": [
            "[[0. 0. 0. ... 0. 0. 0.]\n",
            " [0. 0. 0. ... 0. 0. 0.]\n",
            " [0. 0. 0. ... 0. 0. 0.]\n",
            " ...\n",
            " [0. 0. 0. ... 0. 0. 0.]\n",
            " [0. 0. 0. ... 0. 0. 0.]\n",
            " [0. 0. 0. ... 0. 0. 0.]]\n",
            "<class 'numpy.ndarray'>\n",
            "time of Yuman's PCA:  3.7113505499999064\n",
            "(60000, 154)\n"
          ],
          "name": "stdout"
        }
      ]
    },
    {
      "cell_type": "code",
      "metadata": {
        "id": "tCrixZ3Ty4SJ",
        "colab_type": "code",
        "colab": {
          "base_uri": "https://localhost:8080/",
          "height": 238
        },
        "outputId": "e9baf6a2-6d5c-4b49-bde5-2c30c740e6ff"
      },
      "source": [
        "lowDDataMat"
      ],
      "execution_count": 13,
      "outputs": [
        {
          "output_type": "execute_result",
          "data": {
            "text/plain": [
              "array([[ -123.93258866,  -312.67426202,   -24.51405176, ...,\n",
              "          -55.01899792,    20.08327427,   -39.58995229],\n",
              "       [-1011.71837587,  -294.85703827,   596.33956104, ...,\n",
              "           -7.24129874,    12.45780869,    12.7432306 ],\n",
              "       [   51.84960805,   392.17315286,  -188.50974943, ...,\n",
              "           54.19582221,   -48.47979747,    73.27826256],\n",
              "       ...,\n",
              "       [  178.0534496 ,   160.07821109,  -257.61308227, ...,\n",
              "          -55.54485537,   -87.99883556,     5.78979735],\n",
              "       [ -130.60607208,    -5.59193642,   513.85867395, ...,\n",
              "          -23.30835402,    -5.06237836,    65.26525587],\n",
              "       [  173.43595244,   -24.71880226,   556.01889393, ...,\n",
              "          -52.4956069 ,   -12.63192292,    45.74001227]])"
            ]
          },
          "metadata": {
            "tags": []
          },
          "execution_count": 13
        }
      ]
    },
    {
      "cell_type": "code",
      "metadata": {
        "id": "xkBW1_FOckS0",
        "colab_type": "code",
        "colab": {}
      },
      "source": [
        "import cupy as cp"
      ],
      "execution_count": 12,
      "outputs": []
    },
    {
      "cell_type": "code",
      "metadata": {
        "id": "sM7LDc8yckS5",
        "colab_type": "code",
        "colab": {
          "base_uri": "https://localhost:8080/",
          "height": 34
        },
        "outputId": "71d60401-7b29-4a6a-ee6f-fcc3b88a18b6"
      },
      "source": [
        "X_train_cp = cp.array(X_train)\n",
        "type(X_train_cp)"
      ],
      "execution_count": 14,
      "outputs": [
        {
          "output_type": "execute_result",
          "data": {
            "text/plain": [
              "cupy.core.core.ndarray"
            ]
          },
          "metadata": {
            "tags": []
          },
          "execution_count": 14
        }
      ]
    },
    {
      "cell_type": "code",
      "metadata": {
        "id": "sX3_EPYbeJCe",
        "colab_type": "code",
        "colab": {}
      },
      "source": [
        "def pca_cp_v2(dataMat, topNfeat=999999):\n",
        "\n",
        "    \n",
        "    meanVals = cp.mean(dataMat, axis=0)\n",
        "    meanRemoved = dataMat - meanVals\n",
        "\n",
        "    covmat = cp.cov(meanRemoved, rowvar=0)\n",
        "    # print(covmat)\n",
        "    #covmat = cp.asnumpy(covmat)\n",
        "\n",
        "    eigVals, eigVects = cp.linalg.eigh(covmat)\n",
        "\n",
        "    # computeDim\n",
        "    if topNfeat < 1:\n",
        "      sum = 0\n",
        "      eigValsort = cp.sort(eigVals)\n",
        "      \n",
        "      for i in range((len(eigValsort)-1), 0, -1):\n",
        "        sum += eigValsort[i]\n",
        "        dim = i\n",
        "        if (sum / eigValsort.sum() >= topNfeat):\n",
        "          break\n",
        "      topNfeat = dataMat.shape[1] - dim\n",
        "    \n",
        "    eigValInd = cp.argsort(eigVals)\n",
        "    eigValInd = eigValInd[:-(topNfeat+1):-1]    \n",
        "    redEigVects = eigVects[:, eigValInd]    \n",
        "    print(type(meanRemoved))  \n",
        "    print(type(redEigVects))  \n",
        "\n",
        "   \n",
        "    lowDDataMat = meanRemoved.dot(redEigVects)     \n",
        "    reconMat = (lowDDataMat.dot(redEigVects.T)) + meanVals \n",
        "    return cp.array(lowDDataMat), cp.array(reconMat)"
      ],
      "execution_count": 15,
      "outputs": []
    },
    {
      "cell_type": "code",
      "metadata": {
        "id": "pLNrkEkeeaPn",
        "colab_type": "code",
        "colab": {
          "base_uri": "https://localhost:8080/",
          "height": 68
        },
        "outputId": "99b9e126-9f6a-4c24-9a38-ed363f7bfe86"
      },
      "source": [
        "#%time lowDDataMat, reconMat = pca_cp_v2(X_train_cp, 3)\n",
        "start = timeit.default_timer()\n",
        "lowDDataMat, reconMat = pca_cp_v2(X_train_cp, 0.95)\n",
        "end = timeit.default_timer()\n",
        "print(\"time of cupy PCA v2: \", end - start)"
      ],
      "execution_count": 17,
      "outputs": [
        {
          "output_type": "stream",
          "text": [
            "<class 'cupy.core.core.ndarray'>\n",
            "<class 'cupy.core.core.ndarray'>\n",
            "time of cupy PCA v2:  0.3905913819999114\n"
          ],
          "name": "stdout"
        }
      ]
    },
    {
      "cell_type": "code",
      "metadata": {
        "id": "p9HPZ71vey5_",
        "colab_type": "code",
        "colab": {}
      },
      "source": [
        ""
      ],
      "execution_count": null,
      "outputs": []
    },
    {
      "cell_type": "code",
      "metadata": {
        "id": "0mTPQLf1f3F2",
        "colab_type": "code",
        "colab": {}
      },
      "source": [
        ""
      ],
      "execution_count": null,
      "outputs": []
    }
  ]
}