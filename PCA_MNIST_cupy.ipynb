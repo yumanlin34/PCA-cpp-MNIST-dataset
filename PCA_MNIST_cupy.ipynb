{
  "nbformat": 4,
  "nbformat_minor": 0,
  "metadata": {
    "kernelspec": {
      "display_name": "Python 3",
      "language": "python",
      "name": "python3"
    },
    "language_info": {
      "codemirror_mode": {
        "name": "ipython",
        "version": 3
      },
      "file_extension": ".py",
      "mimetype": "text/x-python",
      "name": "python",
      "nbconvert_exporter": "python",
      "pygments_lexer": "ipython3",
      "version": "3.7.4"
    },
    "colab": {
      "name": "PCA MNIST_cupy.ipynb",
      "provenance": [],
      "collapsed_sections": []
    },
    "accelerator": "GPU"
  },
  "cells": [
    {
      "cell_type": "code",
      "metadata": {
        "id": "8l5yTrX6ckSR",
        "colab_type": "code",
        "colab": {}
      },
      "source": [
        "# author: Yuman Lin\n",
        "# July 7 2020"
      ],
      "execution_count": 1,
      "outputs": []
    },
    {
      "cell_type": "code",
      "metadata": {
        "id": "wrF103ZVckST",
        "colab_type": "code",
        "colab": {}
      },
      "source": [
        "import numpy as np\n",
        "from sklearn.datasets import fetch_openml\n",
        "mnist = fetch_openml('mnist_784', version=1, cache=True)\n",
        "mnist.target = mnist.target.astype(np.int8)\n",
        "X_train = mnist[\"data\"][:60000]\n",
        "X_test  = mnist[\"data\"][60000:]\n",
        "y_train = mnist[\"target\"][:60000]\n",
        "y_test  = mnist[\"target\"][60000:]"
      ],
      "execution_count": 2,
      "outputs": []
    },
    {
      "cell_type": "code",
      "metadata": {
        "id": "_KVTvBr-eP0j",
        "colab_type": "code",
        "colab": {}
      },
      "source": [
        "import timeit"
      ],
      "execution_count": 3,
      "outputs": []
    },
    {
      "cell_type": "code",
      "metadata": {
        "id": "xTQATHBGckSW",
        "colab_type": "code",
        "colab": {
          "base_uri": "https://localhost:8080/",
          "height": 34
        },
        "outputId": "2f3aa6dd-31af-4ae3-ac4e-3119337cb14d"
      },
      "source": [
        "from sklearn.decomposition import PCA\n",
        "pca = PCA(n_components=3)\n",
        "start = timeit.default_timer()\n",
        "X_reduced = pca.fit_transform(X_train)\n",
        "stop = timeit.default_timer()\n",
        "print(\"'time of PCA library: \", stop - start)"
      ],
      "execution_count": 5,
      "outputs": [
        {
          "output_type": "stream",
          "text": [
            "'time of PCA library:  3.377916488000011\n"
          ],
          "name": "stdout"
        }
      ]
    },
    {
      "cell_type": "code",
      "metadata": {
        "id": "Z49pP3esckSY",
        "colab_type": "code",
        "colab": {
          "base_uri": "https://localhost:8080/",
          "height": 34
        },
        "outputId": "7182f98a-83bb-47d2-cde9-6501c9b3855e"
      },
      "source": [
        "X_reduced.shape"
      ],
      "execution_count": 6,
      "outputs": [
        {
          "output_type": "execute_result",
          "data": {
            "text/plain": [
              "(60000, 3)"
            ]
          },
          "metadata": {
            "tags": []
          },
          "execution_count": 6
        }
      ]
    },
    {
      "cell_type": "code",
      "metadata": {
        "id": "xCIAEfldckSa",
        "colab_type": "code",
        "colab": {
          "base_uri": "https://localhost:8080/",
          "height": 136
        },
        "outputId": "e3690cfc-9a25-4901-a21e-5216923cb260"
      },
      "source": [
        "X_reduced"
      ],
      "execution_count": 7,
      "outputs": [
        {
          "output_type": "execute_result",
          "data": {
            "text/plain": [
              "array([[ 123.92047302, -312.66391533,  -24.37945012],\n",
              "       [1011.71638145, -294.85111707,  596.35784003],\n",
              "       [ -51.85130577,  392.17594807, -188.49866045],\n",
              "       ...,\n",
              "       [-178.0578634 ,  160.07766406, -257.55249094],\n",
              "       [ 130.60770887,   -5.60195446,  513.8437239 ],\n",
              "       [-173.43537783,  -24.72386812,  556.0089233 ]])"
            ]
          },
          "metadata": {
            "tags": []
          },
          "execution_count": 7
        }
      ]
    },
    {
      "cell_type": "code",
      "metadata": {
        "id": "pvtsv_WnckSq",
        "colab_type": "code",
        "colab": {
          "base_uri": "https://localhost:8080/",
          "height": 34
        },
        "outputId": "0c6393b2-a838-4e72-9dc4-02b95ff23f15"
      },
      "source": [
        "type(X_train)"
      ],
      "execution_count": 8,
      "outputs": [
        {
          "output_type": "execute_result",
          "data": {
            "text/plain": [
              "numpy.ndarray"
            ]
          },
          "metadata": {
            "tags": []
          },
          "execution_count": 8
        }
      ]
    },
    {
      "cell_type": "code",
      "metadata": {
        "id": "Zw7eXIYLckSs",
        "colab_type": "code",
        "colab": {}
      },
      "source": [
        "def pca(dataMat, topNfeat=999999):\n",
        "\n",
        "    \n",
        "    meanVals = np.mean(dataMat, axis=0)\n",
        "    meanRemoved = dataMat - meanVals\n",
        "\n",
        "    \n",
        "    covmat = np.cov(meanRemoved, rowvar=0)\n",
        "    print(covmat)\n",
        "    print(type(covmat))\n",
        "\n",
        "    \n",
        "    eigVals, eigVects = np.linalg.eig(np.mat(covmat))\n",
        "    eigValInd = np.argsort(eigVals)\n",
        "    eigValInd = eigValInd[:-(topNfeat+1):-1]    \n",
        "    redEigVects = eigVects[:, eigValInd]        \n",
        "\n",
        "   \n",
        "    lowDDataMat = meanRemoved * redEigVects     \n",
        "    reconMat = (lowDDataMat * redEigVects.T) + meanVals \n",
        "    return np.array(lowDDataMat), np.array(reconMat)"
      ],
      "execution_count": 9,
      "outputs": []
    },
    {
      "cell_type": "code",
      "metadata": {
        "id": "LYpE46-zckSu",
        "colab_type": "code",
        "colab": {
          "base_uri": "https://localhost:8080/",
          "height": 170
        },
        "outputId": "d91c2566-5e2b-484f-c6e4-ff2e5ed16cd7"
      },
      "source": [
        "start = timeit.default_timer()\n",
        "lowDDataMat, reconMat = pca(X_train, 3)\n",
        "end = timeit.default_timer()\n",
        "print(\"time of Yuman's PCA: \", end - start)\n",
        "\n",
        "# UW machine: doppio:\n",
        "# 1.7455005068331957"
      ],
      "execution_count": 10,
      "outputs": [
        {
          "output_type": "stream",
          "text": [
            "[[0. 0. 0. ... 0. 0. 0.]\n",
            " [0. 0. 0. ... 0. 0. 0.]\n",
            " [0. 0. 0. ... 0. 0. 0.]\n",
            " ...\n",
            " [0. 0. 0. ... 0. 0. 0.]\n",
            " [0. 0. 0. ... 0. 0. 0.]\n",
            " [0. 0. 0. ... 0. 0. 0.]]\n",
            "<class 'numpy.ndarray'>\n",
            "time of Yuman's PCA:  2.994223785000031\n"
          ],
          "name": "stdout"
        }
      ]
    },
    {
      "cell_type": "code",
      "metadata": {
        "id": "YIPmE7vuckSw",
        "colab_type": "code",
        "colab": {
          "base_uri": "https://localhost:8080/",
          "height": 136
        },
        "outputId": "e98b723c-5ad2-46cf-d073-ecbcd673b320"
      },
      "source": [
        "lowDDataMat"
      ],
      "execution_count": 11,
      "outputs": [
        {
          "output_type": "execute_result",
          "data": {
            "text/plain": [
              "array([[ -123.93258866,  -312.67426202,   -24.51405176],\n",
              "       [-1011.71837587,  -294.85703827,   596.33956104],\n",
              "       [   51.84960805,   392.17315286,  -188.50974943],\n",
              "       ...,\n",
              "       [  178.0534496 ,   160.07821109,  -257.61308227],\n",
              "       [ -130.60607208,    -5.59193642,   513.85867395],\n",
              "       [  173.43595244,   -24.71880226,   556.01889393]])"
            ]
          },
          "metadata": {
            "tags": []
          },
          "execution_count": 11
        }
      ]
    },
    {
      "cell_type": "code",
      "metadata": {
        "id": "B6pVwIhVckSy",
        "colab_type": "code",
        "colab": {
          "base_uri": "https://localhost:8080/",
          "height": 136
        },
        "outputId": "5945bd42-0f7e-449e-f322-055da8628438"
      },
      "source": [
        "X_reduced"
      ],
      "execution_count": 12,
      "outputs": [
        {
          "output_type": "execute_result",
          "data": {
            "text/plain": [
              "array([[ 123.92047302, -312.66391533,  -24.37945012],\n",
              "       [1011.71638145, -294.85111707,  596.35784003],\n",
              "       [ -51.85130577,  392.17594807, -188.49866045],\n",
              "       ...,\n",
              "       [-178.0578634 ,  160.07766406, -257.55249094],\n",
              "       [ 130.60770887,   -5.60195446,  513.8437239 ],\n",
              "       [-173.43537783,  -24.72386812,  556.0089233 ]])"
            ]
          },
          "metadata": {
            "tags": []
          },
          "execution_count": 12
        }
      ]
    },
    {
      "cell_type": "code",
      "metadata": {
        "id": "xkBW1_FOckS0",
        "colab_type": "code",
        "colab": {}
      },
      "source": [
        "import cupy as cp"
      ],
      "execution_count": 13,
      "outputs": []
    },
    {
      "cell_type": "code",
      "metadata": {
        "id": "sM7LDc8yckS5",
        "colab_type": "code",
        "colab": {
          "base_uri": "https://localhost:8080/",
          "height": 34
        },
        "outputId": "e86e8246-4bfb-4fcd-ff19-0ebb39e2a79c"
      },
      "source": [
        "X_train_cp = cp.array(X_train)\n",
        "type(X_train_cp)"
      ],
      "execution_count": 14,
      "outputs": [
        {
          "output_type": "execute_result",
          "data": {
            "text/plain": [
              "cupy.core.core.ndarray"
            ]
          },
          "metadata": {
            "tags": []
          },
          "execution_count": 14
        }
      ]
    },
    {
      "cell_type": "code",
      "metadata": {
        "id": "2QAJFqu0ckS7",
        "colab_type": "code",
        "colab": {}
      },
      "source": [
        "def pca_cp(dataMat, topNfeat=999999):\n",
        "\n",
        "    \n",
        "    meanVals = cp.mean(dataMat, axis=0)\n",
        "    meanRemoved = dataMat - meanVals\n",
        "\n",
        "    \n",
        "    covmat = cp.cov(meanRemoved, rowvar=0)\n",
        "    # print(covmat)\n",
        "    covmat = cp.asnumpy(covmat)\n",
        "    eigVals, eigVects = np.linalg.eig(np.mat(covmat))\n",
        "    eigVals = cp.array(eigVals)\n",
        "    eigVects = cp.array(eigVects)\n",
        "    \n",
        "    eigValInd = cp.argsort(eigVals)\n",
        "    eigValInd = eigValInd[:-(topNfeat+1):-1]    \n",
        "    redEigVects = eigVects[:, eigValInd]    \n",
        "    print(type(meanRemoved))  \n",
        "    print(type(redEigVects))  \n",
        "\n",
        "   \n",
        "    lowDDataMat = meanRemoved.dot(redEigVects)     \n",
        "    reconMat = (lowDDataMat.dot(redEigVects.T)) + meanVals \n",
        "    return cp.array(lowDDataMat), cp.array(reconMat)"
      ],
      "execution_count": 15,
      "outputs": []
    },
    {
      "cell_type": "code",
      "metadata": {
        "id": "1lZ3CbCVckTB",
        "colab_type": "code",
        "colab": {
          "base_uri": "https://localhost:8080/",
          "height": 68
        },
        "outputId": "16fbb727-ff72-4e75-a13f-89e8dd8da834"
      },
      "source": [
        "#%time lowDDataMat, reconMat = pca_cp(X_train_cp, 3)\n",
        "\n",
        "start = timeit.default_timer()\n",
        "lowDDataMat, reconMat = pca_cp(X_train_cp, 3)\n",
        "end = timeit.default_timer()\n",
        "print(\"time of cupy PCA v1: \", end - start)"
      ],
      "execution_count": 18,
      "outputs": [
        {
          "output_type": "stream",
          "text": [
            "<class 'cupy.core.core.ndarray'>\n",
            "<class 'cupy.core.core.ndarray'>\n",
            "time of cupy PCA v1:  0.7230669209999974\n"
          ],
          "name": "stdout"
        }
      ]
    },
    {
      "cell_type": "code",
      "metadata": {
        "id": "4FfpC5pGckTD",
        "colab_type": "code",
        "colab": {
          "base_uri": "https://localhost:8080/",
          "height": 136
        },
        "outputId": "34efa77b-2905-4651-b4e6-3295d916f872"
      },
      "source": [
        "lowDDataMat"
      ],
      "execution_count": null,
      "outputs": [
        {
          "output_type": "execute_result",
          "data": {
            "text/plain": [
              "array([[ -123.93258866,  -312.67426202,   -24.51405176],\n",
              "       [-1011.71837587,  -294.85703827,   596.33956104],\n",
              "       [   51.84960805,   392.17315286,  -188.50974943],\n",
              "       ...,\n",
              "       [  178.0534496 ,   160.07821109,  -257.61308227],\n",
              "       [ -130.60607208,    -5.59193642,   513.85867395],\n",
              "       [  173.43595244,   -24.71880226,   556.01889393]])"
            ]
          },
          "metadata": {
            "tags": []
          },
          "execution_count": 22
        }
      ]
    },
    {
      "cell_type": "code",
      "metadata": {
        "id": "FhZV6iMdiWgQ",
        "colab_type": "code",
        "colab": {}
      },
      "source": [
        "def pca_cp_v2(dataMat, topNfeat=999999):\n",
        "\n",
        "    \n",
        "    meanVals = cp.mean(dataMat, axis=0)\n",
        "    meanRemoved = dataMat - meanVals\n",
        "\n",
        "    covmat = cp.cov(meanRemoved, rowvar=0)\n",
        "    # print(covmat)\n",
        "    #covmat = cp.asnumpy(covmat)\n",
        "\n",
        "    eigVals, eigVects = cp.linalg.eigh(covmat)\n",
        "    #eigVals = cp.array(eigVals)\n",
        "    #eigVects = cp.array(eigVects)\n",
        "    \n",
        "    eigValInd = cp.argsort(eigVals)\n",
        "    eigValInd = eigValInd[:-(topNfeat+1):-1]    \n",
        "    redEigVects = eigVects[:, eigValInd]    \n",
        "    print(type(meanRemoved))  \n",
        "    print(type(redEigVects))  \n",
        "\n",
        "   \n",
        "    lowDDataMat = meanRemoved.dot(redEigVects)     \n",
        "    reconMat = (lowDDataMat.dot(redEigVects.T)) + meanVals \n",
        "    return cp.array(lowDDataMat), cp.array(reconMat)"
      ],
      "execution_count": 20,
      "outputs": []
    },
    {
      "cell_type": "code",
      "metadata": {
        "id": "22QTz2QRfusx",
        "colab_type": "code",
        "colab": {
          "base_uri": "https://localhost:8080/",
          "height": 68
        },
        "outputId": "1bcc1414-e1d7-4056-b564-8f7c64a25ebe"
      },
      "source": [
        "#%time lowDDataMat, reconMat = pca_cp_v2(X_train_cp, 3)\n",
        "start = timeit.default_timer()\n",
        "lowDDataMat, reconMat = pca_cp_v2(X_train_cp, 3)\n",
        "end = timeit.default_timer()\n",
        "print(\"time of cupy PCA v2: \", end - start)"
      ],
      "execution_count": 22,
      "outputs": [
        {
          "output_type": "stream",
          "text": [
            "<class 'cupy.core.core.ndarray'>\n",
            "<class 'cupy.core.core.ndarray'>\n",
            "time of cupy PCA v2:  0.11553216599997995\n"
          ],
          "name": "stdout"
        }
      ]
    },
    {
      "cell_type": "code",
      "metadata": {
        "id": "duBEfU8RfyJh",
        "colab_type": "code",
        "colab": {
          "base_uri": "https://localhost:8080/",
          "height": 85
        },
        "outputId": "99f98456-e573-47d2-c7fe-81807672d184"
      },
      "source": [
        "%time lowDDataMat, reconMat = pca_cp_v2(X_train_cp, 3)"
      ],
      "execution_count": 24,
      "outputs": [
        {
          "output_type": "stream",
          "text": [
            "<class 'cupy.core.core.ndarray'>\n",
            "<class 'cupy.core.core.ndarray'>\n",
            "CPU times: user 83.6 ms, sys: 24.1 ms, total: 108 ms\n",
            "Wall time: 111 ms\n"
          ],
          "name": "stdout"
        }
      ]
    },
    {
      "cell_type": "code",
      "metadata": {
        "id": "0mTPQLf1f3F2",
        "colab_type": "code",
        "colab": {}
      },
      "source": [
        ""
      ],
      "execution_count": null,
      "outputs": []
    }
  ]
}